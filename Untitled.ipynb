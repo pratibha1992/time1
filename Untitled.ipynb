{
 "cells": [
  {
   "cell_type": "code",
   "execution_count": 3,
   "id": "7ff5c9a8",
   "metadata": {},
   "outputs": [
    {
     "name": "stderr",
     "output_type": "stream",
     "text": [
      "C:\\Users\\HP_Home123\\anaconda3\\lib\\site-packages\\statsmodels\\tsa\\base\\tsa_model.py:471: ValueWarning: No frequency information was provided, so inferred frequency M will be used.\n",
      "  self._init_dates(dates, freq)\n",
      "C:\\Users\\HP_Home123\\anaconda3\\lib\\site-packages\\statsmodels\\tsa\\base\\tsa_model.py:471: ValueWarning: No frequency information was provided, so inferred frequency M will be used.\n",
      "  self._init_dates(dates, freq)\n",
      "C:\\Users\\HP_Home123\\anaconda3\\lib\\site-packages\\statsmodels\\tsa\\statespace\\sarimax.py:866: UserWarning: Too few observations to estimate starting parameters for seasonal ARMA. All parameters except for variances will be set to zeros.\n",
      "  warn('Too few observations to estimate starting parameters%s.'\n",
      "C:\\Users\\HP_Home123\\anaconda3\\lib\\site-packages\\statsmodels\\base\\model.py:604: ConvergenceWarning: Maximum Likelihood optimization failed to converge. Check mle_retvals\n",
      "  warnings.warn(\"Maximum Likelihood optimization failed to \"\n"
     ]
    },
    {
     "name": "stdout",
     "output_type": "stream",
     "text": [
      "sales_order_amount        mean  mean_ci_lower  mean_ci_upper\n",
      "2024-01-31          196.648768     146.145615     247.151920\n",
      "2024-02-29          231.278880     177.628568     284.929193\n",
      "2024-03-31          211.465168     152.666065     270.264270\n",
      "2024-04-30          209.193130     147.655184     270.731076\n",
      "2024-05-31          203.552437     137.497695     269.607180\n",
      "2024-06-30          239.528017     171.010808     308.045227\n",
      "True     17\n",
      "False     7\n",
      "Name: exceeds_credit_limit, dtype: int64\n",
      "True     13\n",
      "False     6\n",
      "Name: exceeds_credit_limit, dtype: int64\n",
      "True     4\n",
      "False    1\n",
      "Name: exceeds_credit_limit, dtype: int64\n",
      "              precision    recall  f1-score   support\n",
      "\n",
      "       False       1.00      1.00      1.00         1\n",
      "        True       1.00      1.00      1.00         4\n",
      "\n",
      "    accuracy                           1.00         5\n",
      "   macro avg       1.00      1.00      1.00         5\n",
      "weighted avg       1.00      1.00      1.00         5\n",
      "\n",
      "    current_outstanding_amount  credit_limit  predicted_sales_order_amount  \\\n",
      "15                        1000            80                    239.528017   \n",
      "23                        7800            40                    239.528017   \n",
      "8                         3500          3000                    239.528017   \n",
      "20                          65           500                    239.528017   \n",
      "12                         300            60                    239.528017   \n",
      "\n",
      "    predicted_exceeds_limit  \n",
      "15                     True  \n",
      "23                     True  \n",
      "8                      True  \n",
      "20                    False  \n",
      "12                     True  \n"
     ]
    }
   ],
   "source": [
    "import pandas as pd\n",
    "from statsmodels.tsa.statespace.sarimax import SARIMAX\n",
    "import matplotlib.pyplot as plt\n",
    "from sklearn.model_selection import train_test_split\n",
    "from sklearn.linear_model import LogisticRegression\n",
    "from sklearn.metrics import classification_report\n",
    "import numpy as np\n",
    "\n",
    "# Example historical sales order data (dummy data)\n",
    "data = {\n",
    "    'date': pd.date_range(start='2022-01-01', periods=24, freq='M'),\n",
    "    'sales_order_amount': [100, 150, 120, 130, 110, 160, 170, 180, 140, 130, 150, 160,\n",
    "                           170, 180, 150, 140, 160, 170, 180, 150, 160, 170, 180, 190]\n",
    "}\n",
    "sales_df = pd.DataFrame(data)\n",
    "sales_df.set_index('date', inplace=True)\n",
    "\n",
    "# Fit an ARIMA model (order p, d, q should be determined based on data analysis)\n",
    "model = SARIMAX(sales_df['sales_order_amount'], order=(1, 1, 1), seasonal_order=(1, 1, 1, 12))\n",
    "results = model.fit()\n",
    "\n",
    "# Forecast future sales orders\n",
    "forecast_steps = 6  # For the next 6 months\n",
    "forecast = results.get_forecast(steps=forecast_steps)\n",
    "forecast_df = forecast.summary_frame()\n",
    "\n",
    "# Display forecasted values\n",
    "print(forecast_df[['mean', 'mean_ci_lower', 'mean_ci_upper']])\n",
    "\n",
    "# Example credit data\n",
    "credit_data = {\n",
    "    'current_outstanding_amount': [1000, 2000, 1500, 5000, 1200, 3000, 4000, 2500, 3500, 2200,1000,200,300,400,500,1000,600,500,700,800,65,7600,3400,7800],\n",
    "    'credit_limit': [4000, 3000, 6000, 2500, 4500, 5000, 3000, 4000, 3000,100,20,50,60,70,70,80,90,100,400,500,500,20,50,40]\n",
    "}\n",
    "credit_df = pd.DataFrame(credit_data)\n",
    "\n",
    "# Assuming you want to predict the status of these customers for the next period\n",
    "# Merge with the forecasted sales order amounts\n",
    "num_forecasts = len(forecast_df)\n",
    "num_samples = len(credit_df)\n",
    "\n",
    "# Ensure that the forecasted values match the number of samples you want to predict\n",
    "if num_forecasts >= num_samples:\n",
    "    credit_df['predicted_sales_order_amount'] = forecast_df['mean'].values[:num_samples]\n",
    "else:\n",
    "    # If there are fewer forecasted values, pad with mean of the forecasted values or handle accordingly\n",
    "    credit_df['predicted_sales_order_amount'] = np.pad(forecast_df['mean'].values, (0, num_samples - num_forecasts), 'edge')\n",
    "\n",
    "# Calculate potential new outstanding amount\n",
    "credit_df['potential_new_outstanding_amount'] = credit_df['current_outstanding_amount'] + credit_df['predicted_sales_order_amount']\n",
    "\n",
    "# Determine if it exceeds the credit limit\n",
    "credit_df['exceeds_credit_limit'] = credit_df['potential_new_outstanding_amount'] > credit_df['credit_limit']\n",
    "\n",
    "# Preparing features and target\n",
    "X = credit_df[['current_outstanding_amount', 'credit_limit', 'predicted_sales_order_amount']]\n",
    "y = credit_df['exceeds_credit_limit']\n",
    "\n",
    "# Check the class distribution\n",
    "print(y.value_counts())\n",
    "\n",
    "# Stratified splitting to maintain the class distribution\n",
    "X_train, X_test, y_train, y_test = train_test_split(X, y, test_size=0.2, random_state=42, stratify=y)\n",
    "\n",
    "# Check the class distribution in the training set\n",
    "print(y_train.value_counts())\n",
    "print(y_test.value_counts())\n",
    "\n",
    "# Model training\n",
    "if len(y_train.unique()) < 2:\n",
    "    print(\"Training data does not contain both classes.\")\n",
    "else:\n",
    "    model = LogisticRegression()\n",
    "    model.fit(X_train, y_train)\n",
    "\n",
    "    # Predictions\n",
    "    y_pred = model.predict(X_test)\n",
    "\n",
    "    # Evaluation\n",
    "    print(classification_report(y_test, y_pred))\n",
    "\n",
    "    # Display test set with predictions\n",
    "    test_results = X_test.copy()\n",
    "    test_results['predicted_exceeds_limit'] = y_pred\n",
    "    print(test_results)\n"
   ]
  },
  {
   "cell_type": "code",
   "execution_count": 4,
   "id": "5159bd52",
   "metadata": {},
   "outputs": [],
   "source": [
    "import pickle\n",
    "pickle.dump(model,open('model1.pkl','wb'))"
   ]
  },
  {
   "cell_type": "code",
   "execution_count": 5,
   "id": "d9773662",
   "metadata": {},
   "outputs": [],
   "source": [
    "pickled_model=pickle.load(open('model1.pkl','rb'))"
   ]
  },
  {
   "cell_type": "code",
   "execution_count": 6,
   "id": "845fbe1e",
   "metadata": {},
   "outputs": [
    {
     "data": {
      "text/plain": [
       "array([ True,  True,  True, False,  True])"
      ]
     },
     "execution_count": 6,
     "metadata": {},
     "output_type": "execute_result"
    }
   ],
   "source": [
    "pickled_model.predict(X_test)"
   ]
  },
  {
   "cell_type": "code",
   "execution_count": null,
   "id": "237cb5d4",
   "metadata": {},
   "outputs": [],
   "source": []
  }
 ],
 "metadata": {
  "kernelspec": {
   "display_name": "Python 3 (ipykernel)",
   "language": "python",
   "name": "python3"
  },
  "language_info": {
   "codemirror_mode": {
    "name": "ipython",
    "version": 3
   },
   "file_extension": ".py",
   "mimetype": "text/x-python",
   "name": "python",
   "nbconvert_exporter": "python",
   "pygments_lexer": "ipython3",
   "version": "3.9.7"
  }
 },
 "nbformat": 4,
 "nbformat_minor": 5
}
